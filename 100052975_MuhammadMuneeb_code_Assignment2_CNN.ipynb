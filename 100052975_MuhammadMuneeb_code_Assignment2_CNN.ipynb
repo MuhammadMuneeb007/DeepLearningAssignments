{
  "nbformat": 4,
  "nbformat_minor": 0,
  "metadata": {
    "kernelspec": {
      "display_name": "Python 3",
      "language": "python",
      "name": "python3"
    },
    "language_info": {
      "codemirror_mode": {
        "name": "ipython",
        "version": 3
      },
      "file_extension": ".py",
      "mimetype": "text/x-python",
      "name": "python",
      "nbconvert_exporter": "python",
      "pygments_lexer": "ipython3",
      "version": "3.7.6"
    },
    "colab": {
      "name": "Assignment2_CNN.ipynb",
      "provenance": [],
      "collapsed_sections": []
    }
  },
  "cells": [
    {
      "cell_type": "code",
      "metadata": {
        "id": "AxF0lT-iX_3j"
      },
      "source": [
        "from keras.datasets import mnist\n",
        "from keras.models import Sequential, load_model\n",
        "from keras.layers.core import Dense, Dropout, Activation,ActivityRegularization\n",
        "from keras.utils.np_utils import to_categorical\n",
        "import matplotlib.pyplot as plt"
      ],
      "execution_count": 34,
      "outputs": []
    },
    {
      "cell_type": "markdown",
      "metadata": {
        "id": "DJu33zI14JIN"
      },
      "source": [
        ""
      ]
    },
    {
      "cell_type": "code",
      "metadata": {
        "id": "v2m9vNDzX_3n"
      },
      "source": [
        "from keras.datasets import mnist\n",
        "from keras.models import Sequential, load_model\n",
        "from keras.layers.core import Dense, Dropout, Activation,ActivityRegularization\n",
        "from keras.layers import Conv2D, MaxPooling2D,Flatten\n",
        "\n",
        "from keras.utils.np_utils import to_categorical\n",
        "import matplotlib.pyplot as plt\n",
        "import keras\n",
        "from keras.datasets import mnist\n",
        "\n",
        "\n",
        "\n",
        "#Loading MNIST dataset\n",
        "(X_train, y_train), (X_test, y_test) = mnist.load_data()\n",
        "\n",
        "#Reshaping DataSet so it can be used with CNN\n",
        "X_train = X_train.reshape(X_train.shape[0], 28, 28, 1)\n",
        "X_test = X_test.reshape(X_test.shape[0], 28,28, 1)\n",
        "    \n",
        "\n",
        "X_train = X_train.astype('float32')\n",
        "X_test = X_test.astype('float32')\n",
        "X_train /= 255\n",
        "X_test /= 255\n",
        "y_train = to_categorical(y_train)\n",
        "y_test = to_categorical(y_test)\n",
        "#plotting function\n",
        "def plotting(history):\n",
        "  fig = plt.figure()\n",
        "  history_dict = history.history\n",
        "  print(history_dict.keys())\n",
        "  plt.subplot(2,1,1)\n",
        "  plt.plot(history_dict['accuracy'])\n",
        "  plt.plot(history_dict['val_accuracy'])\n",
        "  plt.title('model accuracy')\n",
        "  plt.ylabel('accuracy')\n",
        "  plt.xlabel('epoch')\n",
        "  plt.legend(['Training Set', 'Validation Set'], loc='lower right')\n",
        "\n",
        "  plt.subplot(2,1,2)\n",
        "\n",
        "\n",
        "  plt.plot( history_dict['loss'])\n",
        "  plt.plot( history_dict['val_loss'])\n",
        "  plt.title('model loss')\n",
        "  plt.ylabel('loss')\n",
        "  plt.xlabel('epoch')\n",
        "  plt.legend(['Training Set', 'Validation Set'], loc='upper right')\n",
        "\n",
        "  plt.tight_layout()"
      ],
      "execution_count": 35,
      "outputs": []
    },
    {
      "cell_type": "code",
      "metadata": {
        "id": "VnRKTfoCX_3w",
        "outputId": "f78aef72-4341-4727-f09e-506100c972bd",
        "colab": {
          "base_uri": "https://localhost:8080/",
          "height": 546
        }
      },
      "source": [
        "#Normal Network\n",
        "import time\n",
        "start_time = time.time()\n",
        "\n",
        "##model building\n",
        "model = Sequential()\n",
        "model.add(Conv2D(32, kernel_size=(3, 3),\n",
        "                 activation='relu',\n",
        "                 input_shape=(28,28,1)))\n",
        "model.add(MaxPooling2D(pool_size=(2, 2)))\n",
        "\n",
        "model.add(Conv2D(64, (3, 3), activation='relu'))\n",
        "model.add(MaxPooling2D(pool_size=(2, 2)))\n",
        "model.add(Conv2D(64, (3, 3), activation='relu'))\n",
        "model.add(MaxPooling2D(pool_size=(2, 2)))\n",
        "model.add(Flatten())\n",
        "model.add(Dense(100, activation='relu'))\n",
        "model.add(Dropout(0.5))\n",
        " \n",
        "model.add(Dense(10, activation='softmax'))\n",
        "\n",
        "model.compile(loss='categorical_crossentropy', metrics=['accuracy'], optimizer='adam')\n",
        "\n",
        "history = model.fit(X_train, y_train,\n",
        "          batch_size=128, epochs=5,\n",
        "          validation_split=0.3)\n",
        "\n",
        "plotting(history)\n",
        "loss, acc = model.evaluate(X_test, y_test)\n",
        "print(\"\\nTest accuracy: %.1f%%\" % (100.0 * acc))\n",
        "print(\"--- %s seconds ---\" % (time.time() - start_time))"
      ],
      "execution_count": 36,
      "outputs": [
        {
          "output_type": "stream",
          "text": [
            "Epoch 1/5\n",
            "329/329 [==============================] - 34s 104ms/step - loss: 0.6084 - accuracy: 0.8075 - val_loss: 0.1667 - val_accuracy: 0.9512\n",
            "Epoch 2/5\n",
            "329/329 [==============================] - 34s 104ms/step - loss: 0.1877 - accuracy: 0.9458 - val_loss: 0.1094 - val_accuracy: 0.9657\n",
            "Epoch 3/5\n",
            "329/329 [==============================] - 34s 104ms/step - loss: 0.1374 - accuracy: 0.9596 - val_loss: 0.0869 - val_accuracy: 0.9734\n",
            "Epoch 4/5\n",
            "329/329 [==============================] - 34s 104ms/step - loss: 0.1099 - accuracy: 0.9683 - val_loss: 0.0835 - val_accuracy: 0.9745\n",
            "Epoch 5/5\n",
            "329/329 [==============================] - 34s 104ms/step - loss: 0.0934 - accuracy: 0.9725 - val_loss: 0.0760 - val_accuracy: 0.9772\n",
            "dict_keys(['loss', 'accuracy', 'val_loss', 'val_accuracy'])\n",
            "313/313 [==============================] - 3s 9ms/step - loss: 0.0687 - accuracy: 0.9792\n",
            "\n",
            "Test accuracy: 97.9%\n",
            "--- 174.88266611099243 seconds ---\n"
          ],
          "name": "stdout"
        },
        {
          "output_type": "display_data",
          "data": {
            "image/png": "[encoded data removed]",
            "text/plain": [
              "<Figure size 432x288 with 2 Axes>"
            ]
          },
          "metadata": {
            "tags": [],
            "needs_background": "light"
          }
        }
      ]
    },
    {
      "cell_type": "markdown",
      "metadata": {
        "id": "fw53k_d5qTxG"
      },
      "source": [
        "This is the basic CNN that we build."
      ]
    },
    {
      "cell_type": "code",
      "metadata": {
        "id": "gbsPs77OX_33",
        "outputId": "39b686e5-428b-4806-ef6b-e42f5ca08556",
        "colab": {
          "base_uri": "https://localhost:8080/",
          "height": 912
        }
      },
      "source": [
        "#activation functions \n",
        "activationFunctions = [\"sigmoid\",\"relu\",\"softmax\",\"tanh\"]\n",
        "import time\n",
        "t = []\n",
        "l= []\n",
        "a = []\n",
        "for activation in activationFunctions:\n",
        "  print(activation)\n",
        "  start_time = time.time()\n",
        "  model = Sequential()\n",
        "  model.add(Conv2D(32, kernel_size=(3, 3),\n",
        "                 activation=activation,\n",
        "                 input_shape=(28,28,1)))\n",
        "  model.add(MaxPooling2D(pool_size=(2, 2)))\n",
        "\n",
        "  model.add(Conv2D(64, (3, 3), activation=activation))\n",
        "  model.add(MaxPooling2D(pool_size=(2, 2)))\n",
        "  model.add(Conv2D(64, (3, 3), activation=activation))\n",
        "  model.add(MaxPooling2D(pool_size=(2, 2)))\n",
        "  model.add(Flatten())\n",
        "  model.add(Dense(512))\n",
        "  model.add(Activation(activation))                            \n",
        "  model.add(Dropout(0.2))\n",
        "  model.add(Dense(10))\n",
        "  model.add(Activation(\"softmax\"))\n",
        "\n",
        "  # compiling the sequential model\n",
        "  model.compile(loss='categorical_crossentropy', metrics=['accuracy'], optimizer='adam')\n",
        "  # training the model and saving metrics in history\n",
        "  history = model.fit(X_train, Y_train,\n",
        "          batch_size=128, epochs=5,\n",
        "          validation_split=0.3)\n",
        "\n",
        "  #plotting(history)\n",
        "  loss, acc = model.evaluate(X_test, Y_test)\n",
        "  l.append(loss)\n",
        "  a.append((100.0 * acc))\n",
        "  t.append(time.time() - start_time)\n",
        "\n",
        "print(\"loss\")\n",
        "print(l)\n",
        "print(\"accuracy\")\n",
        "print(a)\n",
        "print(\"Time for execution\")\n",
        "print(t)\n"
      ],
      "execution_count": 37,
      "outputs": [
        {
          "output_type": "stream",
          "text": [
            "sigmoid\n",
            "Epoch 1/5\n",
            "329/329 [==============================] - 36s 109ms/step - loss: 2.0963 - accuracy: 0.2361 - val_loss: 0.9298 - val_accuracy: 0.7457\n",
            "Epoch 2/5\n",
            "329/329 [==============================] - 35s 107ms/step - loss: 0.5129 - accuracy: 0.8516 - val_loss: 0.2979 - val_accuracy: 0.9110\n",
            "Epoch 3/5\n",
            "329/329 [==============================] - 35s 108ms/step - loss: 0.2669 - accuracy: 0.9183 - val_loss: 0.2032 - val_accuracy: 0.9381\n",
            "Epoch 4/5\n",
            "329/329 [==============================] - 35s 108ms/step - loss: 0.2006 - accuracy: 0.9391 - val_loss: 0.1666 - val_accuracy: 0.9501\n",
            "Epoch 5/5\n",
            "329/329 [==============================] - 36s 108ms/step - loss: 0.1646 - accuracy: 0.9494 - val_loss: 0.1465 - val_accuracy: 0.9552\n",
            "313/313 [==============================] - 3s 10ms/step - loss: 0.1380 - accuracy: 0.9560\n",
            "relu\n",
            "Epoch 1/5\n",
            "329/329 [==============================] - 36s 108ms/step - loss: 0.4207 - accuracy: 0.8712 - val_loss: 0.1364 - val_accuracy: 0.9563\n",
            "Epoch 2/5\n",
            "329/329 [==============================] - 35s 107ms/step - loss: 0.1178 - accuracy: 0.9645 - val_loss: 0.1022 - val_accuracy: 0.9687\n",
            "Epoch 3/5\n",
            "329/329 [==============================] - 35s 107ms/step - loss: 0.0840 - accuracy: 0.9735 - val_loss: 0.0888 - val_accuracy: 0.9729\n",
            "Epoch 4/5\n",
            "329/329 [==============================] - 39s 120ms/step - loss: 0.0679 - accuracy: 0.9794 - val_loss: 0.0795 - val_accuracy: 0.9762\n",
            "Epoch 5/5\n",
            "329/329 [==============================] - 35s 107ms/step - loss: 0.0569 - accuracy: 0.9829 - val_loss: 0.0599 - val_accuracy: 0.9826\n",
            "313/313 [==============================] - 3s 9ms/step - loss: 0.0553 - accuracy: 0.9839\n",
            "softmax\n",
            "Epoch 1/5\n",
            "329/329 [==============================] - 55s 167ms/step - loss: 2.3013 - accuracy: 0.1138 - val_loss: 2.3020 - val_accuracy: 0.1079\n",
            "Epoch 2/5\n",
            "329/329 [==============================] - 55s 168ms/step - loss: 2.3011 - accuracy: 0.1143 - val_loss: 2.3021 - val_accuracy: 0.1079\n",
            "Epoch 3/5\n",
            "329/329 [==============================] - 55s 168ms/step - loss: 2.3011 - accuracy: 0.1143 - val_loss: 2.3019 - val_accuracy: 0.1079\n",
            "Epoch 4/5\n",
            "329/329 [==============================] - 55s 168ms/step - loss: 2.3011 - accuracy: 0.1143 - val_loss: 2.3018 - val_accuracy: 0.1079\n",
            "Epoch 5/5\n",
            "329/329 [==============================] - 56s 170ms/step - loss: 2.3012 - accuracy: 0.1143 - val_loss: 2.3020 - val_accuracy: 0.1079\n",
            "313/313 [==============================] - 4s 13ms/step - loss: 2.3011 - accuracy: 0.1135\n",
            "tanh\n",
            "Epoch 1/5\n",
            "329/329 [==============================] - 37s 111ms/step - loss: 0.3464 - accuracy: 0.8980 - val_loss: 0.1312 - val_accuracy: 0.9604\n",
            "Epoch 2/5\n",
            "329/329 [==============================] - 36s 110ms/step - loss: 0.1042 - accuracy: 0.9682 - val_loss: 0.0893 - val_accuracy: 0.9719\n",
            "Epoch 3/5\n",
            "329/329 [==============================] - 36s 110ms/step - loss: 0.0725 - accuracy: 0.9774 - val_loss: 0.0796 - val_accuracy: 0.9748\n",
            "Epoch 4/5\n",
            "329/329 [==============================] - 36s 111ms/step - loss: 0.0572 - accuracy: 0.9825 - val_loss: 0.0728 - val_accuracy: 0.9781\n",
            "Epoch 5/5\n",
            "329/329 [==============================] - 36s 110ms/step - loss: 0.0459 - accuracy: 0.9847 - val_loss: 0.0732 - val_accuracy: 0.9793\n",
            "313/313 [==============================] - 3s 10ms/step - loss: 0.0599 - accuracy: 0.9825\n",
            "loss\n",
            "[0.1379762887954712, 0.05529983341693878, 2.3011016845703125, 0.05994250625371933]\n",
            "accuracy\n",
            "[95.59999704360962, 98.39000105857849, 11.349999904632568, 98.25000166893005]\n",
            "Time for execution\n",
            "[181.73551511764526, 184.4748010635376, 282.0505790710449, 186.00474452972412]\n"
          ],
          "name": "stdout"
        }
      ]
    },
    {
      "cell_type": "markdown",
      "metadata": {
        "id": "nHek8cz7qluO"
      },
      "source": [
        "Here I am using different activation functions.\n",
        "\n",
        "ActivationFunctions = [\"sigmoid\",\"relu\",\"softmax\",\"tanh\"]\n",
        "\n",
        "Relu and tanh are the best activation function for this dataset.\n",
        "\n",
        "If we use softmax then accuracy is not that much high and network performance is bad.\n",
        "\n"
      ]
    },
    {
      "cell_type": "code",
      "metadata": {
        "id": "G-Zc_n9TBP-z",
        "outputId": "4368071e-1b06-4d92-c6c4-081308f26893",
        "colab": {
          "base_uri": "https://localhost:8080/",
          "height": 663
        }
      },
      "source": [
        "#dropout \n",
        "ddropout = [0.2,0.3,0.5]\n",
        "import time\n",
        "t = []\n",
        "l= []\n",
        "a = []\n",
        "for d in ddropout:\n",
        " \n",
        "  start_time = time.time()\n",
        "  model = Sequential()\n",
        "  model.add(Conv2D(32, kernel_size=(3, 3),\n",
        "                 activation='relu',\n",
        "                 input_shape=(28,28,1)))\n",
        "  model.add(MaxPooling2D(pool_size=(2, 2)))\n",
        "\n",
        "  model.add(Conv2D(64, (3, 3), activation='relu'))\n",
        "  model.add(MaxPooling2D(pool_size=(2, 2)))\n",
        "  model.add(Conv2D(64, (3, 3), activation='relu'))\n",
        "  model.add(MaxPooling2D(pool_size=(2, 2)))\n",
        "  model.add(Flatten())\n",
        "  model.add(Dense(512, activation='relu'))\n",
        "                            \n",
        "  model.add(Dropout(d))\n",
        "\n",
        "  model.add(Dense(512))\n",
        "  model.add(Activation(\"relu\"))\n",
        "  model.add(Dropout(d))\n",
        "\n",
        "  model.add(Dense(10))\n",
        "  model.add(Activation(\"softmax\"))\n",
        "\n",
        "  # compiling the sequential model\n",
        "  model.compile(loss='categorical_crossentropy', metrics=['accuracy'], optimizer='adam')\n",
        "  # training the model and saving metrics in history\n",
        "  history = model.fit(X_train, Y_train,\n",
        "          batch_size=128, epochs=5,\n",
        "          validation_split=0.3)\n",
        "\n",
        "  #plotting(history)\n",
        "  loss, acc = model.evaluate(X_test, Y_test)\n",
        "  l.append(loss)\n",
        "  a.append((100.0 * acc))\n",
        "  t.append(time.time() - start_time)\n",
        "\n",
        "print(\"loss\")\n",
        "print(l)\n",
        "print(\"accuracy\")\n",
        "print(a)\n",
        "print(\"Time for execution\")\n",
        "print(t)"
      ],
      "execution_count": 38,
      "outputs": [
        {
          "output_type": "stream",
          "text": [
            "Epoch 1/5\n",
            "329/329 [==============================] - 37s 113ms/step - loss: 0.3922 - accuracy: 0.8742 - val_loss: 0.1278 - val_accuracy: 0.9611\n",
            "Epoch 2/5\n",
            "329/329 [==============================] - 37s 112ms/step - loss: 0.1101 - accuracy: 0.9660 - val_loss: 0.0804 - val_accuracy: 0.9748\n",
            "Epoch 3/5\n",
            "329/329 [==============================] - 41s 124ms/step - loss: 0.0763 - accuracy: 0.9761 - val_loss: 0.0685 - val_accuracy: 0.9778\n",
            "Epoch 4/5\n",
            "329/329 [==============================] - 37s 111ms/step - loss: 0.0566 - accuracy: 0.9824 - val_loss: 0.0749 - val_accuracy: 0.9771\n",
            "Epoch 5/5\n",
            "329/329 [==============================] - 36s 111ms/step - loss: 0.0474 - accuracy: 0.9852 - val_loss: 0.0541 - val_accuracy: 0.9831\n",
            "313/313 [==============================] - 3s 10ms/step - loss: 0.0548 - accuracy: 0.9830\n",
            "Epoch 1/5\n",
            "329/329 [==============================] - 37s 113ms/step - loss: 0.3944 - accuracy: 0.8758 - val_loss: 0.1041 - val_accuracy: 0.9659\n",
            "Epoch 2/5\n",
            "329/329 [==============================] - 37s 112ms/step - loss: 0.1049 - accuracy: 0.9675 - val_loss: 0.0768 - val_accuracy: 0.9769\n",
            "Epoch 3/5\n",
            "329/329 [==============================] - 37s 112ms/step - loss: 0.0753 - accuracy: 0.9773 - val_loss: 0.0623 - val_accuracy: 0.9807\n",
            "Epoch 4/5\n",
            "329/329 [==============================] - 37s 111ms/step - loss: 0.0588 - accuracy: 0.9816 - val_loss: 0.0599 - val_accuracy: 0.9828\n",
            "Epoch 5/5\n",
            "329/329 [==============================] - 37s 111ms/step - loss: 0.0514 - accuracy: 0.9842 - val_loss: 0.0677 - val_accuracy: 0.9803\n",
            "313/313 [==============================] - 3s 10ms/step - loss: 0.0632 - accuracy: 0.9807\n",
            "Epoch 1/5\n",
            "329/329 [==============================] - 37s 114ms/step - loss: 0.4615 - accuracy: 0.8507 - val_loss: 0.1209 - val_accuracy: 0.9610\n",
            "Epoch 2/5\n",
            "329/329 [==============================] - 37s 112ms/step - loss: 0.1217 - accuracy: 0.9634 - val_loss: 0.0913 - val_accuracy: 0.9719\n",
            "Epoch 3/5\n",
            "329/329 [==============================] - 37s 112ms/step - loss: 0.0874 - accuracy: 0.9741 - val_loss: 0.0706 - val_accuracy: 0.9779\n",
            "Epoch 4/5\n",
            "329/329 [==============================] - 37s 112ms/step - loss: 0.0681 - accuracy: 0.9798 - val_loss: 0.0773 - val_accuracy: 0.9759\n",
            "Epoch 5/5\n",
            "329/329 [==============================] - 37s 112ms/step - loss: 0.0569 - accuracy: 0.9828 - val_loss: 0.0632 - val_accuracy: 0.9824\n",
            "313/313 [==============================] - 3s 10ms/step - loss: 0.0561 - accuracy: 0.9840\n",
            "loss\n",
            "[0.05476612597703934, 0.06315550208091736, 0.05609132722020149]\n",
            "accuracy\n",
            "[98.29999804496765, 98.07000160217285, 98.4000027179718]\n",
            "Time for execution\n",
            "[192.25765776634216, 188.3840935230255, 188.94245028495789]\n"
          ],
          "name": "stdout"
        }
      ]
    },
    {
      "cell_type": "markdown",
      "metadata": {
        "id": "MRv1B9JxrRz4"
      },
      "source": [
        "Changing dropout has no effect on accuracy and the time for execution is almost same."
      ]
    },
    {
      "cell_type": "code",
      "metadata": {
        "id": "Odu2QH0VB-pK",
        "outputId": "bb9b0600-775d-4092-cb77-d428bec8f90b",
        "colab": {
          "base_uri": "https://localhost:8080/",
          "height": 846
        }
      },
      "source": [
        "#optimizer \n",
        "optimizer = [\"Adam\",\"SGD\",\"RMSprop\",\"Ftrl\"]\n",
        "import time\n",
        "t = []\n",
        "l= []\n",
        "a = []\n",
        "for o in optimizer:\n",
        " \n",
        "  start_time = time.time()\n",
        "  model = Sequential()\n",
        "  model.add(Conv2D(32, kernel_size=(3, 3),\n",
        "                 activation='relu',\n",
        "                 input_shape=(28,28,1)))\n",
        "  model.add(MaxPooling2D(pool_size=(2, 2)))\n",
        "\n",
        "  model.add(Conv2D(64, (3, 3), activation='relu'))\n",
        "  model.add(MaxPooling2D(pool_size=(2, 2)))\n",
        "  model.add(Conv2D(64, (3, 3), activation='relu'))\n",
        "  model.add(MaxPooling2D(pool_size=(2, 2)))\n",
        "  model.add(Flatten())\n",
        "  model.add(Dense(512, activation='relu'))\n",
        "                             \n",
        "  model.add(Dropout(0.2))\n",
        "\n",
        "  model.add(Dense(512))\n",
        "  model.add(Activation(\"relu\"))\n",
        "  model.add(Dropout(0.2))\n",
        "\n",
        "  model.add(Dense(10))\n",
        "  model.add(Activation(\"softmax\"))\n",
        "\n",
        "  # compiling the sequential model\n",
        "  model.compile(loss='categorical_crossentropy', metrics=['accuracy'], optimizer=o)\n",
        "  # training the model and saving metrics in history\n",
        "  history = model.fit(X_train, Y_train,\n",
        "          batch_size=128, epochs=5,\n",
        "          validation_split=0.3)\n",
        "\n",
        "  #plotting(history)\n",
        "  loss, acc = model.evaluate(X_test, Y_test)\n",
        "  l.append(loss)\n",
        "  a.append((100.0 * acc))\n",
        "  t.append(time.time() - start_time)\n",
        "print(\"loss\")\n",
        "print(l)\n",
        "print(\"accuracy\")\n",
        "print(a)\n",
        "print(\"Time for execution\")\n",
        "print(t)"
      ],
      "execution_count": 39,
      "outputs": [
        {
          "output_type": "stream",
          "text": [
            "Epoch 1/5\n",
            "329/329 [==============================] - 36s 111ms/step - loss: 0.3735 - accuracy: 0.8802 - val_loss: 0.1131 - val_accuracy: 0.9627\n",
            "Epoch 2/5\n",
            "329/329 [==============================] - 37s 113ms/step - loss: 0.1048 - accuracy: 0.9681 - val_loss: 0.0979 - val_accuracy: 0.9718\n",
            "Epoch 3/5\n",
            "329/329 [==============================] - 37s 113ms/step - loss: 0.0743 - accuracy: 0.9771 - val_loss: 0.0698 - val_accuracy: 0.9786\n",
            "Epoch 4/5\n",
            "329/329 [==============================] - 43s 131ms/step - loss: 0.0600 - accuracy: 0.9814 - val_loss: 0.0589 - val_accuracy: 0.9819\n",
            "Epoch 5/5\n",
            "329/329 [==============================] - 37s 112ms/step - loss: 0.0488 - accuracy: 0.9848 - val_loss: 0.0568 - val_accuracy: 0.9829\n",
            "313/313 [==============================] - 3s 10ms/step - loss: 0.0513 - accuracy: 0.9840\n",
            "Epoch 1/5\n",
            "329/329 [==============================] - 37s 113ms/step - loss: 2.2841 - accuracy: 0.2461 - val_loss: 2.2570 - val_accuracy: 0.4578\n",
            "Epoch 2/5\n",
            "329/329 [==============================] - 37s 112ms/step - loss: 2.1433 - accuracy: 0.3896 - val_loss: 1.7533 - val_accuracy: 0.4834\n",
            "Epoch 3/5\n",
            "329/329 [==============================] - 37s 112ms/step - loss: 1.0835 - accuracy: 0.6611 - val_loss: 0.6685 - val_accuracy: 0.7901\n",
            "Epoch 4/5\n",
            "329/329 [==============================] - 37s 112ms/step - loss: 0.5432 - accuracy: 0.8285 - val_loss: 0.6750 - val_accuracy: 0.7740\n",
            "Epoch 5/5\n",
            "329/329 [==============================] - 37s 113ms/step - loss: 0.3809 - accuracy: 0.8824 - val_loss: 0.2917 - val_accuracy: 0.9110\n",
            "313/313 [==============================] - 3s 10ms/step - loss: 0.2866 - accuracy: 0.9127\n",
            "Epoch 1/5\n",
            "329/329 [==============================] - 38s 114ms/step - loss: 0.4254 - accuracy: 0.8618 - val_loss: 0.1438 - val_accuracy: 0.9557\n",
            "Epoch 2/5\n",
            "329/329 [==============================] - 37s 114ms/step - loss: 0.1079 - accuracy: 0.9664 - val_loss: 0.2232 - val_accuracy: 0.9289\n",
            "Epoch 3/5\n",
            "329/329 [==============================] - 37s 113ms/step - loss: 0.0734 - accuracy: 0.9770 - val_loss: 0.0760 - val_accuracy: 0.9762\n",
            "Epoch 4/5\n",
            "329/329 [==============================] - 37s 113ms/step - loss: 0.0532 - accuracy: 0.9839 - val_loss: 0.0624 - val_accuracy: 0.9813\n",
            "Epoch 5/5\n",
            "329/329 [==============================] - 37s 113ms/step - loss: 0.0428 - accuracy: 0.9869 - val_loss: 0.1040 - val_accuracy: 0.9736\n",
            "313/313 [==============================] - 3s 10ms/step - loss: 0.1092 - accuracy: 0.9715\n",
            "Epoch 1/5\n",
            "329/329 [==============================] - 37s 114ms/step - loss: 2.3025 - accuracy: 0.1141 - val_loss: 2.3024 - val_accuracy: 0.1079\n",
            "Epoch 2/5\n",
            "329/329 [==============================] - 37s 113ms/step - loss: 2.3023 - accuracy: 0.1143 - val_loss: 2.3024 - val_accuracy: 0.1079\n",
            "Epoch 3/5\n",
            "329/329 [==============================] - 37s 112ms/step - loss: 2.3022 - accuracy: 0.1143 - val_loss: 2.3023 - val_accuracy: 0.1079\n",
            "Epoch 4/5\n",
            "329/329 [==============================] - 37s 113ms/step - loss: 2.3021 - accuracy: 0.1143 - val_loss: 2.3022 - val_accuracy: 0.1079\n",
            "Epoch 5/5\n",
            "329/329 [==============================] - 42s 128ms/step - loss: 2.3020 - accuracy: 0.1143 - val_loss: 2.3022 - val_accuracy: 0.1079\n",
            "313/313 [==============================] - 3s 10ms/step - loss: 2.3020 - accuracy: 0.1135\n",
            "loss\n",
            "[0.05132986605167389, 0.28664445877075195, 0.10923539847135544, 2.302037239074707]\n",
            "accuracy\n",
            "[98.4000027179718, 91.26999974250793, 97.14999794960022, 11.349999904632568]\n",
            "Time for execution\n",
            "[195.01429724693298, 189.2953383922577, 190.82433581352234, 195.25415658950806]\n"
          ],
          "name": "stdout"
        }
      ]
    },
    {
      "cell_type": "markdown",
      "metadata": {
        "id": "XNF99OzoreAX"
      },
      "source": [
        "Optimizer has major effect on network performance. If we use Ftrl optimizer we get very low accuracy of about only 11 percent.\n",
        "\n",
        "Adam and RMSpop is a good optimizer in this case.\n"
      ]
    },
    {
      "cell_type": "code",
      "metadata": {
        "id": "kwqZV2PfC1Mc",
        "outputId": "e7aa2226-f49f-446e-db63-b200334faa6d",
        "colab": {
          "base_uri": "https://localhost:8080/",
          "height": 663
        }
      },
      "source": [
        "#batchsize\n",
        "batchsize = [128,250,500]\n",
        "import time\n",
        "t = []\n",
        "l= []\n",
        "a = []\n",
        "for b in batchsize:\n",
        " \n",
        "  start_time = time.time()\n",
        "  model = Sequential()\n",
        "  model.add(Conv2D(32, kernel_size=(3, 3),\n",
        "                 activation='relu',\n",
        "                 input_shape=(28,28,1)))\n",
        "  model.add(MaxPooling2D(pool_size=(2, 2)))\n",
        "\n",
        "  model.add(Conv2D(64, (3, 3), activation='relu'))\n",
        "  model.add(MaxPooling2D(pool_size=(2, 2)))\n",
        "  model.add(Conv2D(64, (3, 3), activation='relu'))\n",
        "  model.add(MaxPooling2D(pool_size=(2, 2)))\n",
        "  model.add(Flatten())\n",
        "  model.add(Dense(512, activation='relu'))\n",
        "                            \n",
        "  model.add(Dropout(0.2))\n",
        "\n",
        "  model.add(Dense(512))\n",
        "  model.add(Activation(\"relu\"))\n",
        "  model.add(Dropout(0.2))\n",
        "\n",
        "  model.add(Dense(10))\n",
        "  model.add(Activation(\"softmax\"))\n",
        "\n",
        "  # compiling the sequential model\n",
        "  model.compile(loss='categorical_crossentropy', metrics=['accuracy'], optimizer='Adam')\n",
        "  # training the model and saving metrics in history\n",
        "  history = model.fit(X_train, Y_train,\n",
        "          batch_size=b, epochs=5,\n",
        "          validation_split=0.3)\n",
        "\n",
        "  #plotting(history)\n",
        "  loss, acc = model.evaluate(X_test, Y_test)\n",
        "  l.append(loss)\n",
        "  a.append((100.0 * acc))\n",
        "  t.append(time.time() - start_time)\n",
        "\n",
        "print(\"loss\")\n",
        "print(l)\n",
        "print(\"accuracy\")\n",
        "print(a)\n",
        "print(\"Time for execution\")\n",
        "print(t)"
      ],
      "execution_count": 40,
      "outputs": [
        {
          "output_type": "stream",
          "text": [
            "Epoch 1/5\n",
            "329/329 [==============================] - 37s 114ms/step - loss: 0.3881 - accuracy: 0.8727 - val_loss: 0.1423 - val_accuracy: 0.9577\n",
            "Epoch 2/5\n",
            "329/329 [==============================] - 37s 113ms/step - loss: 0.1049 - accuracy: 0.9678 - val_loss: 0.0762 - val_accuracy: 0.9757\n",
            "Epoch 3/5\n",
            "329/329 [==============================] - 37s 113ms/step - loss: 0.0723 - accuracy: 0.9770 - val_loss: 0.0722 - val_accuracy: 0.9769\n",
            "Epoch 4/5\n",
            "329/329 [==============================] - 37s 113ms/step - loss: 0.0595 - accuracy: 0.9810 - val_loss: 0.0801 - val_accuracy: 0.9751\n",
            "Epoch 5/5\n",
            "329/329 [==============================] - 37s 113ms/step - loss: 0.0485 - accuracy: 0.9849 - val_loss: 0.0835 - val_accuracy: 0.9763\n",
            "313/313 [==============================] - 3s 10ms/step - loss: 0.0759 - accuracy: 0.9773\n",
            "Epoch 1/5\n",
            "168/168 [==============================] - 34s 200ms/step - loss: 0.5091 - accuracy: 0.8421 - val_loss: 0.1507 - val_accuracy: 0.9529\n",
            "Epoch 2/5\n",
            "168/168 [==============================] - 33s 199ms/step - loss: 0.1255 - accuracy: 0.9615 - val_loss: 0.0921 - val_accuracy: 0.9712\n",
            "Epoch 3/5\n",
            "168/168 [==============================] - 33s 198ms/step - loss: 0.0887 - accuracy: 0.9731 - val_loss: 0.0771 - val_accuracy: 0.9770\n",
            "Epoch 4/5\n",
            "168/168 [==============================] - 34s 200ms/step - loss: 0.0707 - accuracy: 0.9780 - val_loss: 0.0672 - val_accuracy: 0.9790\n",
            "Epoch 5/5\n",
            "168/168 [==============================] - 33s 198ms/step - loss: 0.0612 - accuracy: 0.9807 - val_loss: 0.0634 - val_accuracy: 0.9802\n",
            "313/313 [==============================] - 3s 10ms/step - loss: 0.0552 - accuracy: 0.9828\n",
            "Epoch 1/5\n",
            "84/84 [==============================] - 31s 375ms/step - loss: 0.7446 - accuracy: 0.7675 - val_loss: 0.2261 - val_accuracy: 0.9302\n",
            "Epoch 2/5\n",
            "84/84 [==============================] - 31s 373ms/step - loss: 0.1793 - accuracy: 0.9450 - val_loss: 0.1276 - val_accuracy: 0.9609\n",
            "Epoch 3/5\n",
            "84/84 [==============================] - 31s 373ms/step - loss: 0.1191 - accuracy: 0.9644 - val_loss: 0.0969 - val_accuracy: 0.9695\n",
            "Epoch 4/5\n",
            "84/84 [==============================] - 31s 372ms/step - loss: 0.0919 - accuracy: 0.9723 - val_loss: 0.0778 - val_accuracy: 0.9761\n",
            "Epoch 5/5\n",
            "84/84 [==============================] - 31s 373ms/step - loss: 0.0776 - accuracy: 0.9762 - val_loss: 0.0828 - val_accuracy: 0.9747\n",
            "313/313 [==============================] - 3s 10ms/step - loss: 0.0718 - accuracy: 0.9771\n",
            "loss\n",
            "[0.07594475895166397, 0.055223248898983, 0.07184130698442459]\n",
            "accuracy\n",
            "[97.72999882698059, 98.28000068664551, 97.71000146865845]\n",
            "Time for execution\n",
            "[190.43030095100403, 172.13233876228333, 162.48433470726013]\n"
          ],
          "name": "stdout"
        }
      ]
    },
    {
      "cell_type": "markdown",
      "metadata": {
        "id": "MCKk8QsKr-2x"
      },
      "source": [
        "Changing batch size has major effect on execution time of our network. For batch size 500 time is less as compared to normal execution."
      ]
    },
    {
      "cell_type": "code",
      "metadata": {
        "id": "a9zFSPpCECHv",
        "outputId": "7044d65c-a351-482b-baff-f0b95707565e",
        "colab": {
          "base_uri": "https://localhost:8080/",
          "height": 534
        }
      },
      "source": [
        "#weights initiation methods\n",
        "from tensorflow.keras import layers\n",
        "from tensorflow.keras import initializers\n",
        "import tensorflow as tf\n",
        " \n",
        "initiationmethods = [tf.keras.initializers.Ones(),tf.keras.initializers.Zeros(),tf.keras.initializers.RandomNormal(mean=0., stddev=1.)]\n",
        "import time\n",
        "t = []\n",
        "l= []\n",
        "a = []\n",
        "for ii in initiationmethods:\n",
        "  start_time = time.time()\n",
        "  model = Sequential()\n",
        "  model.add(Conv2D(32, kernel_initializer=ii,kernel_size=(3, 3),\n",
        "                 activation='relu',\n",
        "                 input_shape=(28,28,1)))\n",
        "  model.add(MaxPooling2D(pool_size=(2, 2)))\n",
        "\n",
        "  model.add(Conv2D(64, (3, 3), kernel_initializer=ii,activation='relu'))\n",
        "  model.add(MaxPooling2D(pool_size=(2, 2)))\n",
        "  model.add(Conv2D(64, (3, 3), kernel_initializer=ii,activation='relu'))\n",
        "  model.add(MaxPooling2D(pool_size=(2, 2)))\n",
        "  model.add(Flatten())\n",
        "  model.add(Dense(512,kernel_initializer=ii))\n",
        "  model.add(Activation(\"relu\"))                            \n",
        "  model.add(Dropout(0.2))\n",
        "\n",
        "  model.add(Dense(512,kernel_initializer=ii))\n",
        "  model.add(Activation(\"relu\"))\n",
        "  model.add(Dropout(0.2))\n",
        "\n",
        "  model.add(Dense(10,kernel_initializer=ii))\n",
        "  model.add(Activation(\"softmax\"))\n",
        "\n",
        "  # compiling the sequential model\n",
        "  model.compile(loss='categorical_crossentropy', metrics=['accuracy'], optimizer='Adam')\n",
        "  # training the model and saving metrics in history\n",
        "  history = model.fit(X_train, Y_train,\n",
        "          batch_size=128, epochs=5,\n",
        "          validation_split=0.3)\n",
        "\n",
        "  #plotting(history)\n",
        "  loss, acc = model.evaluate(X_test, Y_test)\n",
        "  l.append(loss)\n",
        "  a.append((100.0 * acc))\n",
        "  t.append(time.time() - start_time)\n",
        "\n",
        "print(\"loss\")\n",
        "print(l)\n",
        "print(\"accuracy\")\n",
        "print(a)\n",
        "print(\"Time for execution\")\n",
        "print(t)"
      ],
      "execution_count": 41,
      "outputs": [
        {
          "output_type": "stream",
          "text": [
            "Epoch 1/5\n",
            "329/329 [==============================] - 36s 110ms/step - loss: 5197860864.0000 - accuracy: 0.1001 - val_loss: 1902036736.0000 - val_accuracy: 0.1075\n",
            "Epoch 2/5\n",
            "329/329 [==============================] - 40s 122ms/step - loss: 1326959232.0000 - accuracy: 0.1019 - val_loss: 1327782272.0000 - val_accuracy: 0.0968\n",
            "Epoch 3/5\n",
            "329/329 [==============================] - 36s 111ms/step - loss: 635954688.0000 - accuracy: 0.0993 - val_loss: 809140608.0000 - val_accuracy: 0.0968\n",
            "Epoch 4/5\n",
            "329/329 [==============================] - 36s 110ms/step - loss: 369761344.0000 - accuracy: 0.0993 - val_loss: 303135040.0000 - val_accuracy: 0.1079\n",
            "Epoch 5/5\n",
            " 58/329 [====>.........................] - ETA: 26s - loss: 294627424.0000 - accuracy: 0.0954"
          ],
          "name": "stdout"
        },
        {
          "output_type": "error",
          "ename": "KeyboardInterrupt",
          "evalue": "ignored",
          "traceback": [
            "\u001b[0;31m---------------------------------------------------------------------------\u001b[0m",
            "\u001b[0;31mKeyboardInterrupt\u001b[0m                         Traceback (most recent call last)",
            "\u001b[0;32m<ipython-input-41-a36f191bd716>\u001b[0m in \u001b[0;36m<module>\u001b[0;34m()\u001b[0m\n\u001b[1;32m     38\u001b[0m   history = model.fit(X_train, Y_train,\n\u001b[1;32m     39\u001b[0m           \u001b[0mbatch_size\u001b[0m\u001b[0;34m=\u001b[0m\u001b[0;36m128\u001b[0m\u001b[0;34m,\u001b[0m \u001b[0mepochs\u001b[0m\u001b[0;34m=\u001b[0m\u001b[0;36m5\u001b[0m\u001b[0;34m,\u001b[0m\u001b[0;34m\u001b[0m\u001b[0;34m\u001b[0m\u001b[0m\n\u001b[0;32m---> 40\u001b[0;31m           validation_split=0.3)\n\u001b[0m\u001b[1;32m     41\u001b[0m \u001b[0;34m\u001b[0m\u001b[0m\n\u001b[1;32m     42\u001b[0m   \u001b[0;31m#plotting(history)\u001b[0m\u001b[0;34m\u001b[0m\u001b[0;34m\u001b[0m\u001b[0;34m\u001b[0m\u001b[0m\n",
            "\u001b[0;32m/usr/local/lib/python3.6/dist-packages/tensorflow/python/keras/engine/training.py\u001b[0m in \u001b[0;36m_method_wrapper\u001b[0;34m(self, *args, **kwargs)\u001b[0m\n\u001b[1;32m    106\u001b[0m   \u001b[0;32mdef\u001b[0m \u001b[0m_method_wrapper\u001b[0m\u001b[0;34m(\u001b[0m\u001b[0mself\u001b[0m\u001b[0;34m,\u001b[0m \u001b[0;34m*\u001b[0m\u001b[0margs\u001b[0m\u001b[0;34m,\u001b[0m \u001b[0;34m**\u001b[0m\u001b[0mkwargs\u001b[0m\u001b[0;34m)\u001b[0m\u001b[0;34m:\u001b[0m\u001b[0;34m\u001b[0m\u001b[0;34m\u001b[0m\u001b[0m\n\u001b[1;32m    107\u001b[0m     \u001b[0;32mif\u001b[0m \u001b[0;32mnot\u001b[0m \u001b[0mself\u001b[0m\u001b[0;34m.\u001b[0m\u001b[0m_in_multi_worker_mode\u001b[0m\u001b[0;34m(\u001b[0m\u001b[0;34m)\u001b[0m\u001b[0;34m:\u001b[0m  \u001b[0;31m# pylint: disable=protected-access\u001b[0m\u001b[0;34m\u001b[0m\u001b[0;34m\u001b[0m\u001b[0m\n\u001b[0;32m--> 108\u001b[0;31m       \u001b[0;32mreturn\u001b[0m \u001b[0mmethod\u001b[0m\u001b[0;34m(\u001b[0m\u001b[0mself\u001b[0m\u001b[0;34m,\u001b[0m \u001b[0;34m*\u001b[0m\u001b[0margs\u001b[0m\u001b[0;34m,\u001b[0m \u001b[0;34m**\u001b[0m\u001b[0mkwargs\u001b[0m\u001b[0;34m)\u001b[0m\u001b[0;34m\u001b[0m\u001b[0;34m\u001b[0m\u001b[0m\n\u001b[0m\u001b[1;32m    109\u001b[0m \u001b[0;34m\u001b[0m\u001b[0m\n\u001b[1;32m    110\u001b[0m     \u001b[0;31m# Running inside `run_distribute_coordinator` already.\u001b[0m\u001b[0;34m\u001b[0m\u001b[0;34m\u001b[0m\u001b[0;34m\u001b[0m\u001b[0m\n",
            "\u001b[0;32m/usr/local/lib/python3.6/dist-packages/tensorflow/python/keras/engine/training.py\u001b[0m in \u001b[0;36mfit\u001b[0;34m(self, x, y, batch_size, epochs, verbose, callbacks, validation_split, validation_data, shuffle, class_weight, sample_weight, initial_epoch, steps_per_epoch, validation_steps, validation_batch_size, validation_freq, max_queue_size, workers, use_multiprocessing)\u001b[0m\n\u001b[1;32m   1096\u001b[0m                 batch_size=batch_size):\n\u001b[1;32m   1097\u001b[0m               \u001b[0mcallbacks\u001b[0m\u001b[0;34m.\u001b[0m\u001b[0mon_train_batch_begin\u001b[0m\u001b[0;34m(\u001b[0m\u001b[0mstep\u001b[0m\u001b[0;34m)\u001b[0m\u001b[0;34m\u001b[0m\u001b[0;34m\u001b[0m\u001b[0m\n\u001b[0;32m-> 1098\u001b[0;31m               \u001b[0mtmp_logs\u001b[0m \u001b[0;34m=\u001b[0m \u001b[0mtrain_function\u001b[0m\u001b[0;34m(\u001b[0m\u001b[0miterator\u001b[0m\u001b[0;34m)\u001b[0m\u001b[0;34m\u001b[0m\u001b[0;34m\u001b[0m\u001b[0m\n\u001b[0m\u001b[1;32m   1099\u001b[0m               \u001b[0;32mif\u001b[0m \u001b[0mdata_handler\u001b[0m\u001b[0;34m.\u001b[0m\u001b[0mshould_sync\u001b[0m\u001b[0;34m:\u001b[0m\u001b[0;34m\u001b[0m\u001b[0;34m\u001b[0m\u001b[0m\n\u001b[1;32m   1100\u001b[0m                 \u001b[0mcontext\u001b[0m\u001b[0;34m.\u001b[0m\u001b[0masync_wait\u001b[0m\u001b[0;34m(\u001b[0m\u001b[0;34m)\u001b[0m\u001b[0;34m\u001b[0m\u001b[0;34m\u001b[0m\u001b[0m\n",
            "\u001b[0;32m/usr/local/lib/python3.6/dist-packages/tensorflow/python/eager/def_function.py\u001b[0m in \u001b[0;36m__call__\u001b[0;34m(self, *args, **kwds)\u001b[0m\n\u001b[1;32m    778\u001b[0m       \u001b[0;32melse\u001b[0m\u001b[0;34m:\u001b[0m\u001b[0;34m\u001b[0m\u001b[0;34m\u001b[0m\u001b[0m\n\u001b[1;32m    779\u001b[0m         \u001b[0mcompiler\u001b[0m \u001b[0;34m=\u001b[0m \u001b[0;34m\"nonXla\"\u001b[0m\u001b[0;34m\u001b[0m\u001b[0;34m\u001b[0m\u001b[0m\n\u001b[0;32m--> 780\u001b[0;31m         \u001b[0mresult\u001b[0m \u001b[0;34m=\u001b[0m \u001b[0mself\u001b[0m\u001b[0;34m.\u001b[0m\u001b[0m_call\u001b[0m\u001b[0;34m(\u001b[0m\u001b[0;34m*\u001b[0m\u001b[0margs\u001b[0m\u001b[0;34m,\u001b[0m \u001b[0;34m**\u001b[0m\u001b[0mkwds\u001b[0m\u001b[0;34m)\u001b[0m\u001b[0;34m\u001b[0m\u001b[0;34m\u001b[0m\u001b[0m\n\u001b[0m\u001b[1;32m    781\u001b[0m \u001b[0;34m\u001b[0m\u001b[0m\n\u001b[1;32m    782\u001b[0m       \u001b[0mnew_tracing_count\u001b[0m \u001b[0;34m=\u001b[0m \u001b[0mself\u001b[0m\u001b[0;34m.\u001b[0m\u001b[0m_get_tracing_count\u001b[0m\u001b[0;34m(\u001b[0m\u001b[0;34m)\u001b[0m\u001b[0;34m\u001b[0m\u001b[0;34m\u001b[0m\u001b[0m\n",
            "\u001b[0;32m/usr/local/lib/python3.6/dist-packages/tensorflow/python/eager/def_function.py\u001b[0m in \u001b[0;36m_call\u001b[0;34m(self, *args, **kwds)\u001b[0m\n\u001b[1;32m    805\u001b[0m       \u001b[0;31m# In this case we have created variables on the first call, so we run the\u001b[0m\u001b[0;34m\u001b[0m\u001b[0;34m\u001b[0m\u001b[0;34m\u001b[0m\u001b[0m\n\u001b[1;32m    806\u001b[0m       \u001b[0;31m# defunned version which is guaranteed to never create variables.\u001b[0m\u001b[0;34m\u001b[0m\u001b[0;34m\u001b[0m\u001b[0;34m\u001b[0m\u001b[0m\n\u001b[0;32m--> 807\u001b[0;31m       \u001b[0;32mreturn\u001b[0m \u001b[0mself\u001b[0m\u001b[0;34m.\u001b[0m\u001b[0m_stateless_fn\u001b[0m\u001b[0;34m(\u001b[0m\u001b[0;34m*\u001b[0m\u001b[0margs\u001b[0m\u001b[0;34m,\u001b[0m \u001b[0;34m**\u001b[0m\u001b[0mkwds\u001b[0m\u001b[0;34m)\u001b[0m  \u001b[0;31m# pylint: disable=not-callable\u001b[0m\u001b[0;34m\u001b[0m\u001b[0;34m\u001b[0m\u001b[0m\n\u001b[0m\u001b[1;32m    808\u001b[0m     \u001b[0;32melif\u001b[0m \u001b[0mself\u001b[0m\u001b[0;34m.\u001b[0m\u001b[0m_stateful_fn\u001b[0m \u001b[0;32mis\u001b[0m \u001b[0;32mnot\u001b[0m \u001b[0;32mNone\u001b[0m\u001b[0;34m:\u001b[0m\u001b[0;34m\u001b[0m\u001b[0;34m\u001b[0m\u001b[0m\n\u001b[1;32m    809\u001b[0m       \u001b[0;31m# Release the lock early so that multiple threads can perform the call\u001b[0m\u001b[0;34m\u001b[0m\u001b[0;34m\u001b[0m\u001b[0;34m\u001b[0m\u001b[0m\n",
            "\u001b[0;32m/usr/local/lib/python3.6/dist-packages/tensorflow/python/eager/function.py\u001b[0m in \u001b[0;36m__call__\u001b[0;34m(self, *args, **kwargs)\u001b[0m\n\u001b[1;32m   2827\u001b[0m     \u001b[0;32mwith\u001b[0m \u001b[0mself\u001b[0m\u001b[0;34m.\u001b[0m\u001b[0m_lock\u001b[0m\u001b[0;34m:\u001b[0m\u001b[0;34m\u001b[0m\u001b[0;34m\u001b[0m\u001b[0m\n\u001b[1;32m   2828\u001b[0m       \u001b[0mgraph_function\u001b[0m\u001b[0;34m,\u001b[0m \u001b[0margs\u001b[0m\u001b[0;34m,\u001b[0m \u001b[0mkwargs\u001b[0m \u001b[0;34m=\u001b[0m \u001b[0mself\u001b[0m\u001b[0;34m.\u001b[0m\u001b[0m_maybe_define_function\u001b[0m\u001b[0;34m(\u001b[0m\u001b[0margs\u001b[0m\u001b[0;34m,\u001b[0m \u001b[0mkwargs\u001b[0m\u001b[0;34m)\u001b[0m\u001b[0;34m\u001b[0m\u001b[0;34m\u001b[0m\u001b[0m\n\u001b[0;32m-> 2829\u001b[0;31m     \u001b[0;32mreturn\u001b[0m \u001b[0mgraph_function\u001b[0m\u001b[0;34m.\u001b[0m\u001b[0m_filtered_call\u001b[0m\u001b[0;34m(\u001b[0m\u001b[0margs\u001b[0m\u001b[0;34m,\u001b[0m \u001b[0mkwargs\u001b[0m\u001b[0;34m)\u001b[0m  \u001b[0;31m# pylint: disable=protected-access\u001b[0m\u001b[0;34m\u001b[0m\u001b[0;34m\u001b[0m\u001b[0m\n\u001b[0m\u001b[1;32m   2830\u001b[0m \u001b[0;34m\u001b[0m\u001b[0m\n\u001b[1;32m   2831\u001b[0m   \u001b[0;34m@\u001b[0m\u001b[0mproperty\u001b[0m\u001b[0;34m\u001b[0m\u001b[0;34m\u001b[0m\u001b[0m\n",
            "\u001b[0;32m/usr/local/lib/python3.6/dist-packages/tensorflow/python/eager/function.py\u001b[0m in \u001b[0;36m_filtered_call\u001b[0;34m(self, args, kwargs, cancellation_manager)\u001b[0m\n\u001b[1;32m   1846\u001b[0m                            resource_variable_ops.BaseResourceVariable))],\n\u001b[1;32m   1847\u001b[0m         \u001b[0mcaptured_inputs\u001b[0m\u001b[0;34m=\u001b[0m\u001b[0mself\u001b[0m\u001b[0;34m.\u001b[0m\u001b[0mcaptured_inputs\u001b[0m\u001b[0;34m,\u001b[0m\u001b[0;34m\u001b[0m\u001b[0;34m\u001b[0m\u001b[0m\n\u001b[0;32m-> 1848\u001b[0;31m         cancellation_manager=cancellation_manager)\n\u001b[0m\u001b[1;32m   1849\u001b[0m \u001b[0;34m\u001b[0m\u001b[0m\n\u001b[1;32m   1850\u001b[0m   \u001b[0;32mdef\u001b[0m \u001b[0m_call_flat\u001b[0m\u001b[0;34m(\u001b[0m\u001b[0mself\u001b[0m\u001b[0;34m,\u001b[0m \u001b[0margs\u001b[0m\u001b[0;34m,\u001b[0m \u001b[0mcaptured_inputs\u001b[0m\u001b[0;34m,\u001b[0m \u001b[0mcancellation_manager\u001b[0m\u001b[0;34m=\u001b[0m\u001b[0;32mNone\u001b[0m\u001b[0;34m)\u001b[0m\u001b[0;34m:\u001b[0m\u001b[0;34m\u001b[0m\u001b[0;34m\u001b[0m\u001b[0m\n",
            "\u001b[0;32m/usr/local/lib/python3.6/dist-packages/tensorflow/python/eager/function.py\u001b[0m in \u001b[0;36m_call_flat\u001b[0;34m(self, args, captured_inputs, cancellation_manager)\u001b[0m\n\u001b[1;32m   1922\u001b[0m       \u001b[0;31m# No tape is watching; skip to running the function.\u001b[0m\u001b[0;34m\u001b[0m\u001b[0;34m\u001b[0m\u001b[0;34m\u001b[0m\u001b[0m\n\u001b[1;32m   1923\u001b[0m       return self._build_call_outputs(self._inference_function.call(\n\u001b[0;32m-> 1924\u001b[0;31m           ctx, args, cancellation_manager=cancellation_manager))\n\u001b[0m\u001b[1;32m   1925\u001b[0m     forward_backward = self._select_forward_and_backward_functions(\n\u001b[1;32m   1926\u001b[0m         \u001b[0margs\u001b[0m\u001b[0;34m,\u001b[0m\u001b[0;34m\u001b[0m\u001b[0;34m\u001b[0m\u001b[0m\n",
            "\u001b[0;32m/usr/local/lib/python3.6/dist-packages/tensorflow/python/eager/function.py\u001b[0m in \u001b[0;36mcall\u001b[0;34m(self, ctx, args, cancellation_manager)\u001b[0m\n\u001b[1;32m    548\u001b[0m               \u001b[0minputs\u001b[0m\u001b[0;34m=\u001b[0m\u001b[0margs\u001b[0m\u001b[0;34m,\u001b[0m\u001b[0;34m\u001b[0m\u001b[0;34m\u001b[0m\u001b[0m\n\u001b[1;32m    549\u001b[0m               \u001b[0mattrs\u001b[0m\u001b[0;34m=\u001b[0m\u001b[0mattrs\u001b[0m\u001b[0;34m,\u001b[0m\u001b[0;34m\u001b[0m\u001b[0;34m\u001b[0m\u001b[0m\n\u001b[0;32m--> 550\u001b[0;31m               ctx=ctx)\n\u001b[0m\u001b[1;32m    551\u001b[0m         \u001b[0;32melse\u001b[0m\u001b[0;34m:\u001b[0m\u001b[0;34m\u001b[0m\u001b[0;34m\u001b[0m\u001b[0m\n\u001b[1;32m    552\u001b[0m           outputs = execute.execute_with_cancellation(\n",
            "\u001b[0;32m/usr/local/lib/python3.6/dist-packages/tensorflow/python/eager/execute.py\u001b[0m in \u001b[0;36mquick_execute\u001b[0;34m(op_name, num_outputs, inputs, attrs, ctx, name)\u001b[0m\n\u001b[1;32m     58\u001b[0m     \u001b[0mctx\u001b[0m\u001b[0;34m.\u001b[0m\u001b[0mensure_initialized\u001b[0m\u001b[0;34m(\u001b[0m\u001b[0;34m)\u001b[0m\u001b[0;34m\u001b[0m\u001b[0;34m\u001b[0m\u001b[0m\n\u001b[1;32m     59\u001b[0m     tensors = pywrap_tfe.TFE_Py_Execute(ctx._handle, device_name, op_name,\n\u001b[0;32m---> 60\u001b[0;31m                                         inputs, attrs, num_outputs)\n\u001b[0m\u001b[1;32m     61\u001b[0m   \u001b[0;32mexcept\u001b[0m \u001b[0mcore\u001b[0m\u001b[0;34m.\u001b[0m\u001b[0m_NotOkStatusException\u001b[0m \u001b[0;32mas\u001b[0m \u001b[0me\u001b[0m\u001b[0;34m:\u001b[0m\u001b[0;34m\u001b[0m\u001b[0;34m\u001b[0m\u001b[0m\n\u001b[1;32m     62\u001b[0m     \u001b[0;32mif\u001b[0m \u001b[0mname\u001b[0m \u001b[0;32mis\u001b[0m \u001b[0;32mnot\u001b[0m \u001b[0;32mNone\u001b[0m\u001b[0;34m:\u001b[0m\u001b[0;34m\u001b[0m\u001b[0;34m\u001b[0m\u001b[0m\n",
            "\u001b[0;31mKeyboardInterrupt\u001b[0m: "
          ]
        }
      ]
    },
    {
      "cell_type": "markdown",
      "metadata": {
        "id": "1r6Tfarlsawj"
      },
      "source": [
        "This point is very important. If we are using same weights for network then it will not converge properly. For 0's and 1's it gives accuracy of about 11 and 10 percent respectively."
      ]
    },
    {
      "cell_type": "code",
      "metadata": {
        "id": "bQbfbsrv7uLS",
        "outputId": "668eeef9-4dfb-475d-9aff-2b93f5d43bc6",
        "colab": {
          "base_uri": "https://localhost:8080/",
          "height": 401
        }
      },
      "source": [
        "import time\n",
        "\n",
        "#regularization types\n",
        "#l1 and l2 regularization\n",
        "#l2\n",
        "l2 = [0.2,0.3,0.5]\n",
        "import time\n",
        "t = []\n",
        "l= []\n",
        "a = []\n",
        "for ll in l2:\n",
        "  start_time = time.time()\n",
        "  model = Sequential()\n",
        "  model.add(Conv2D(32, kernel_size=(3, 3),\n",
        "                 activation='relu',\n",
        "                 input_shape=(28,28,1)))\n",
        "  model.add(ActivityRegularization(0,ll))\n",
        "\n",
        "  model.add(MaxPooling2D(pool_size=(2, 2)))\n",
        "\n",
        "  model.add(Conv2D(64, (3, 3), activation='relu'))\n",
        "  model.add(ActivityRegularization(0,ll))\n",
        "\n",
        "  model.add(MaxPooling2D(pool_size=(2, 2)))\n",
        "  model.add(ActivityRegularization(0,ll))\n",
        "\n",
        "  model.add(Conv2D(64, (3, 3), activation='relu'))\n",
        "  model.add(MaxPooling2D(pool_size=(2, 2)))\n",
        "  model.add(Flatten())\n",
        "  model.add(Dense(512, activation='relu'))                            \n",
        "  model.add(ActivityRegularization(0,ll))\n",
        "\n",
        "  model.add(Dense(512))\n",
        "  model.add(Activation(\"relu\"))\n",
        "  model.add(ActivityRegularization(0,ll))\n",
        "\n",
        "  model.add(Dense(10))\n",
        "  model.add(Activation(\"softmax\"))\n",
        "\n",
        "  # compiling the sequential model\n",
        "  model.compile(loss='categorical_crossentropy', metrics=['accuracy'], optimizer='Adam')\n",
        "  # training the model and saving metrics in history\n",
        "  history = model.fit(X_train, Y_train,\n",
        "          batch_size=128, epochs=5,\n",
        "          validation_split=0.3)\n",
        "\n",
        "  #plotting(history)\n",
        "  loss, acc = model.evaluate(X_test, Y_test)\n",
        "  l.append(loss)\n",
        "  a.append((100.0 * acc))\n",
        "  t.append(time.time() - start_time)\n",
        "\n",
        "print(\"loss\")\n",
        "print(l)\n",
        "print(\"accuracy\")\n",
        "print(a)\n",
        "print(\"Time for execution\")\n",
        "print(t)"
      ],
      "execution_count": 42,
      "outputs": [
        {
          "output_type": "stream",
          "text": [
            "Epoch 1/5\n",
            " 36/329 [==>...........................] - ETA: 31s - loss: 7.6777 - accuracy: 0.1491"
          ],
          "name": "stdout"
        },
        {
          "output_type": "error",
          "ename": "KeyboardInterrupt",
          "evalue": "ignored",
          "traceback": [
            "\u001b[0;31m---------------------------------------------------------------------------\u001b[0m",
            "\u001b[0;31mKeyboardInterrupt\u001b[0m                         Traceback (most recent call last)",
            "\u001b[0;32m<ipython-input-42-d42e455a07d0>\u001b[0m in \u001b[0;36m<module>\u001b[0;34m()\u001b[0m\n\u001b[1;32m     43\u001b[0m   history = model.fit(X_train, Y_train,\n\u001b[1;32m     44\u001b[0m           \u001b[0mbatch_size\u001b[0m\u001b[0;34m=\u001b[0m\u001b[0;36m128\u001b[0m\u001b[0;34m,\u001b[0m \u001b[0mepochs\u001b[0m\u001b[0;34m=\u001b[0m\u001b[0;36m5\u001b[0m\u001b[0;34m,\u001b[0m\u001b[0;34m\u001b[0m\u001b[0;34m\u001b[0m\u001b[0m\n\u001b[0;32m---> 45\u001b[0;31m           validation_split=0.3)\n\u001b[0m\u001b[1;32m     46\u001b[0m \u001b[0;34m\u001b[0m\u001b[0m\n\u001b[1;32m     47\u001b[0m   \u001b[0;31m#plotting(history)\u001b[0m\u001b[0;34m\u001b[0m\u001b[0;34m\u001b[0m\u001b[0;34m\u001b[0m\u001b[0m\n",
            "\u001b[0;32m/usr/local/lib/python3.6/dist-packages/tensorflow/python/keras/engine/training.py\u001b[0m in \u001b[0;36m_method_wrapper\u001b[0;34m(self, *args, **kwargs)\u001b[0m\n\u001b[1;32m    106\u001b[0m   \u001b[0;32mdef\u001b[0m \u001b[0m_method_wrapper\u001b[0m\u001b[0;34m(\u001b[0m\u001b[0mself\u001b[0m\u001b[0;34m,\u001b[0m \u001b[0;34m*\u001b[0m\u001b[0margs\u001b[0m\u001b[0;34m,\u001b[0m \u001b[0;34m**\u001b[0m\u001b[0mkwargs\u001b[0m\u001b[0;34m)\u001b[0m\u001b[0;34m:\u001b[0m\u001b[0;34m\u001b[0m\u001b[0;34m\u001b[0m\u001b[0m\n\u001b[1;32m    107\u001b[0m     \u001b[0;32mif\u001b[0m \u001b[0;32mnot\u001b[0m \u001b[0mself\u001b[0m\u001b[0;34m.\u001b[0m\u001b[0m_in_multi_worker_mode\u001b[0m\u001b[0;34m(\u001b[0m\u001b[0;34m)\u001b[0m\u001b[0;34m:\u001b[0m  \u001b[0;31m# pylint: disable=protected-access\u001b[0m\u001b[0;34m\u001b[0m\u001b[0;34m\u001b[0m\u001b[0m\n\u001b[0;32m--> 108\u001b[0;31m       \u001b[0;32mreturn\u001b[0m \u001b[0mmethod\u001b[0m\u001b[0;34m(\u001b[0m\u001b[0mself\u001b[0m\u001b[0;34m,\u001b[0m \u001b[0;34m*\u001b[0m\u001b[0margs\u001b[0m\u001b[0;34m,\u001b[0m \u001b[0;34m**\u001b[0m\u001b[0mkwargs\u001b[0m\u001b[0;34m)\u001b[0m\u001b[0;34m\u001b[0m\u001b[0;34m\u001b[0m\u001b[0m\n\u001b[0m\u001b[1;32m    109\u001b[0m \u001b[0;34m\u001b[0m\u001b[0m\n\u001b[1;32m    110\u001b[0m     \u001b[0;31m# Running inside `run_distribute_coordinator` already.\u001b[0m\u001b[0;34m\u001b[0m\u001b[0;34m\u001b[0m\u001b[0;34m\u001b[0m\u001b[0m\n",
            "\u001b[0;32m/usr/local/lib/python3.6/dist-packages/tensorflow/python/keras/engine/training.py\u001b[0m in \u001b[0;36mfit\u001b[0;34m(self, x, y, batch_size, epochs, verbose, callbacks, validation_split, validation_data, shuffle, class_weight, sample_weight, initial_epoch, steps_per_epoch, validation_steps, validation_batch_size, validation_freq, max_queue_size, workers, use_multiprocessing)\u001b[0m\n\u001b[1;32m   1096\u001b[0m                 batch_size=batch_size):\n\u001b[1;32m   1097\u001b[0m               \u001b[0mcallbacks\u001b[0m\u001b[0;34m.\u001b[0m\u001b[0mon_train_batch_begin\u001b[0m\u001b[0;34m(\u001b[0m\u001b[0mstep\u001b[0m\u001b[0;34m)\u001b[0m\u001b[0;34m\u001b[0m\u001b[0;34m\u001b[0m\u001b[0m\n\u001b[0;32m-> 1098\u001b[0;31m               \u001b[0mtmp_logs\u001b[0m \u001b[0;34m=\u001b[0m \u001b[0mtrain_function\u001b[0m\u001b[0;34m(\u001b[0m\u001b[0miterator\u001b[0m\u001b[0;34m)\u001b[0m\u001b[0;34m\u001b[0m\u001b[0;34m\u001b[0m\u001b[0m\n\u001b[0m\u001b[1;32m   1099\u001b[0m               \u001b[0;32mif\u001b[0m \u001b[0mdata_handler\u001b[0m\u001b[0;34m.\u001b[0m\u001b[0mshould_sync\u001b[0m\u001b[0;34m:\u001b[0m\u001b[0;34m\u001b[0m\u001b[0;34m\u001b[0m\u001b[0m\n\u001b[1;32m   1100\u001b[0m                 \u001b[0mcontext\u001b[0m\u001b[0;34m.\u001b[0m\u001b[0masync_wait\u001b[0m\u001b[0;34m(\u001b[0m\u001b[0;34m)\u001b[0m\u001b[0;34m\u001b[0m\u001b[0;34m\u001b[0m\u001b[0m\n",
            "\u001b[0;32m/usr/local/lib/python3.6/dist-packages/tensorflow/python/eager/def_function.py\u001b[0m in \u001b[0;36m__call__\u001b[0;34m(self, *args, **kwds)\u001b[0m\n\u001b[1;32m    778\u001b[0m       \u001b[0;32melse\u001b[0m\u001b[0;34m:\u001b[0m\u001b[0;34m\u001b[0m\u001b[0;34m\u001b[0m\u001b[0m\n\u001b[1;32m    779\u001b[0m         \u001b[0mcompiler\u001b[0m \u001b[0;34m=\u001b[0m \u001b[0;34m\"nonXla\"\u001b[0m\u001b[0;34m\u001b[0m\u001b[0;34m\u001b[0m\u001b[0m\n\u001b[0;32m--> 780\u001b[0;31m         \u001b[0mresult\u001b[0m \u001b[0;34m=\u001b[0m \u001b[0mself\u001b[0m\u001b[0;34m.\u001b[0m\u001b[0m_call\u001b[0m\u001b[0;34m(\u001b[0m\u001b[0;34m*\u001b[0m\u001b[0margs\u001b[0m\u001b[0;34m,\u001b[0m \u001b[0;34m**\u001b[0m\u001b[0mkwds\u001b[0m\u001b[0;34m)\u001b[0m\u001b[0;34m\u001b[0m\u001b[0;34m\u001b[0m\u001b[0m\n\u001b[0m\u001b[1;32m    781\u001b[0m \u001b[0;34m\u001b[0m\u001b[0m\n\u001b[1;32m    782\u001b[0m       \u001b[0mnew_tracing_count\u001b[0m \u001b[0;34m=\u001b[0m \u001b[0mself\u001b[0m\u001b[0;34m.\u001b[0m\u001b[0m_get_tracing_count\u001b[0m\u001b[0;34m(\u001b[0m\u001b[0;34m)\u001b[0m\u001b[0;34m\u001b[0m\u001b[0;34m\u001b[0m\u001b[0m\n",
            "\u001b[0;32m/usr/local/lib/python3.6/dist-packages/tensorflow/python/eager/def_function.py\u001b[0m in \u001b[0;36m_call\u001b[0;34m(self, *args, **kwds)\u001b[0m\n\u001b[1;32m    805\u001b[0m       \u001b[0;31m# In this case we have created variables on the first call, so we run the\u001b[0m\u001b[0;34m\u001b[0m\u001b[0;34m\u001b[0m\u001b[0;34m\u001b[0m\u001b[0m\n\u001b[1;32m    806\u001b[0m       \u001b[0;31m# defunned version which is guaranteed to never create variables.\u001b[0m\u001b[0;34m\u001b[0m\u001b[0;34m\u001b[0m\u001b[0;34m\u001b[0m\u001b[0m\n\u001b[0;32m--> 807\u001b[0;31m       \u001b[0;32mreturn\u001b[0m \u001b[0mself\u001b[0m\u001b[0;34m.\u001b[0m\u001b[0m_stateless_fn\u001b[0m\u001b[0;34m(\u001b[0m\u001b[0;34m*\u001b[0m\u001b[0margs\u001b[0m\u001b[0;34m,\u001b[0m \u001b[0;34m**\u001b[0m\u001b[0mkwds\u001b[0m\u001b[0;34m)\u001b[0m  \u001b[0;31m# pylint: disable=not-callable\u001b[0m\u001b[0;34m\u001b[0m\u001b[0;34m\u001b[0m\u001b[0m\n\u001b[0m\u001b[1;32m    808\u001b[0m     \u001b[0;32melif\u001b[0m \u001b[0mself\u001b[0m\u001b[0;34m.\u001b[0m\u001b[0m_stateful_fn\u001b[0m \u001b[0;32mis\u001b[0m \u001b[0;32mnot\u001b[0m \u001b[0;32mNone\u001b[0m\u001b[0;34m:\u001b[0m\u001b[0;34m\u001b[0m\u001b[0;34m\u001b[0m\u001b[0m\n\u001b[1;32m    809\u001b[0m       \u001b[0;31m# Release the lock early so that multiple threads can perform the call\u001b[0m\u001b[0;34m\u001b[0m\u001b[0;34m\u001b[0m\u001b[0;34m\u001b[0m\u001b[0m\n",
            "\u001b[0;32m/usr/local/lib/python3.6/dist-packages/tensorflow/python/eager/function.py\u001b[0m in \u001b[0;36m__call__\u001b[0;34m(self, *args, **kwargs)\u001b[0m\n\u001b[1;32m   2827\u001b[0m     \u001b[0;32mwith\u001b[0m \u001b[0mself\u001b[0m\u001b[0;34m.\u001b[0m\u001b[0m_lock\u001b[0m\u001b[0;34m:\u001b[0m\u001b[0;34m\u001b[0m\u001b[0;34m\u001b[0m\u001b[0m\n\u001b[1;32m   2828\u001b[0m       \u001b[0mgraph_function\u001b[0m\u001b[0;34m,\u001b[0m \u001b[0margs\u001b[0m\u001b[0;34m,\u001b[0m \u001b[0mkwargs\u001b[0m \u001b[0;34m=\u001b[0m \u001b[0mself\u001b[0m\u001b[0;34m.\u001b[0m\u001b[0m_maybe_define_function\u001b[0m\u001b[0;34m(\u001b[0m\u001b[0margs\u001b[0m\u001b[0;34m,\u001b[0m \u001b[0mkwargs\u001b[0m\u001b[0;34m)\u001b[0m\u001b[0;34m\u001b[0m\u001b[0;34m\u001b[0m\u001b[0m\n\u001b[0;32m-> 2829\u001b[0;31m     \u001b[0;32mreturn\u001b[0m \u001b[0mgraph_function\u001b[0m\u001b[0;34m.\u001b[0m\u001b[0m_filtered_call\u001b[0m\u001b[0;34m(\u001b[0m\u001b[0margs\u001b[0m\u001b[0;34m,\u001b[0m \u001b[0mkwargs\u001b[0m\u001b[0;34m)\u001b[0m  \u001b[0;31m# pylint: disable=protected-access\u001b[0m\u001b[0;34m\u001b[0m\u001b[0;34m\u001b[0m\u001b[0m\n\u001b[0m\u001b[1;32m   2830\u001b[0m \u001b[0;34m\u001b[0m\u001b[0m\n\u001b[1;32m   2831\u001b[0m   \u001b[0;34m@\u001b[0m\u001b[0mproperty\u001b[0m\u001b[0;34m\u001b[0m\u001b[0;34m\u001b[0m\u001b[0m\n",
            "\u001b[0;32m/usr/local/lib/python3.6/dist-packages/tensorflow/python/eager/function.py\u001b[0m in \u001b[0;36m_filtered_call\u001b[0;34m(self, args, kwargs, cancellation_manager)\u001b[0m\n\u001b[1;32m   1846\u001b[0m                            resource_variable_ops.BaseResourceVariable))],\n\u001b[1;32m   1847\u001b[0m         \u001b[0mcaptured_inputs\u001b[0m\u001b[0;34m=\u001b[0m\u001b[0mself\u001b[0m\u001b[0;34m.\u001b[0m\u001b[0mcaptured_inputs\u001b[0m\u001b[0;34m,\u001b[0m\u001b[0;34m\u001b[0m\u001b[0;34m\u001b[0m\u001b[0m\n\u001b[0;32m-> 1848\u001b[0;31m         cancellation_manager=cancellation_manager)\n\u001b[0m\u001b[1;32m   1849\u001b[0m \u001b[0;34m\u001b[0m\u001b[0m\n\u001b[1;32m   1850\u001b[0m   \u001b[0;32mdef\u001b[0m \u001b[0m_call_flat\u001b[0m\u001b[0;34m(\u001b[0m\u001b[0mself\u001b[0m\u001b[0;34m,\u001b[0m \u001b[0margs\u001b[0m\u001b[0;34m,\u001b[0m \u001b[0mcaptured_inputs\u001b[0m\u001b[0;34m,\u001b[0m \u001b[0mcancellation_manager\u001b[0m\u001b[0;34m=\u001b[0m\u001b[0;32mNone\u001b[0m\u001b[0;34m)\u001b[0m\u001b[0;34m:\u001b[0m\u001b[0;34m\u001b[0m\u001b[0;34m\u001b[0m\u001b[0m\n",
            "\u001b[0;32m/usr/local/lib/python3.6/dist-packages/tensorflow/python/eager/function.py\u001b[0m in \u001b[0;36m_call_flat\u001b[0;34m(self, args, captured_inputs, cancellation_manager)\u001b[0m\n\u001b[1;32m   1922\u001b[0m       \u001b[0;31m# No tape is watching; skip to running the function.\u001b[0m\u001b[0;34m\u001b[0m\u001b[0;34m\u001b[0m\u001b[0;34m\u001b[0m\u001b[0m\n\u001b[1;32m   1923\u001b[0m       return self._build_call_outputs(self._inference_function.call(\n\u001b[0;32m-> 1924\u001b[0;31m           ctx, args, cancellation_manager=cancellation_manager))\n\u001b[0m\u001b[1;32m   1925\u001b[0m     forward_backward = self._select_forward_and_backward_functions(\n\u001b[1;32m   1926\u001b[0m         \u001b[0margs\u001b[0m\u001b[0;34m,\u001b[0m\u001b[0;34m\u001b[0m\u001b[0;34m\u001b[0m\u001b[0m\n",
            "\u001b[0;32m/usr/local/lib/python3.6/dist-packages/tensorflow/python/eager/function.py\u001b[0m in \u001b[0;36mcall\u001b[0;34m(self, ctx, args, cancellation_manager)\u001b[0m\n\u001b[1;32m    548\u001b[0m               \u001b[0minputs\u001b[0m\u001b[0;34m=\u001b[0m\u001b[0margs\u001b[0m\u001b[0;34m,\u001b[0m\u001b[0;34m\u001b[0m\u001b[0;34m\u001b[0m\u001b[0m\n\u001b[1;32m    549\u001b[0m               \u001b[0mattrs\u001b[0m\u001b[0;34m=\u001b[0m\u001b[0mattrs\u001b[0m\u001b[0;34m,\u001b[0m\u001b[0;34m\u001b[0m\u001b[0;34m\u001b[0m\u001b[0m\n\u001b[0;32m--> 550\u001b[0;31m               ctx=ctx)\n\u001b[0m\u001b[1;32m    551\u001b[0m         \u001b[0;32melse\u001b[0m\u001b[0;34m:\u001b[0m\u001b[0;34m\u001b[0m\u001b[0;34m\u001b[0m\u001b[0m\n\u001b[1;32m    552\u001b[0m           outputs = execute.execute_with_cancellation(\n",
            "\u001b[0;32m/usr/local/lib/python3.6/dist-packages/tensorflow/python/eager/execute.py\u001b[0m in \u001b[0;36mquick_execute\u001b[0;34m(op_name, num_outputs, inputs, attrs, ctx, name)\u001b[0m\n\u001b[1;32m     58\u001b[0m     \u001b[0mctx\u001b[0m\u001b[0;34m.\u001b[0m\u001b[0mensure_initialized\u001b[0m\u001b[0;34m(\u001b[0m\u001b[0;34m)\u001b[0m\u001b[0;34m\u001b[0m\u001b[0;34m\u001b[0m\u001b[0m\n\u001b[1;32m     59\u001b[0m     tensors = pywrap_tfe.TFE_Py_Execute(ctx._handle, device_name, op_name,\n\u001b[0;32m---> 60\u001b[0;31m                                         inputs, attrs, num_outputs)\n\u001b[0m\u001b[1;32m     61\u001b[0m   \u001b[0;32mexcept\u001b[0m \u001b[0mcore\u001b[0m\u001b[0;34m.\u001b[0m\u001b[0m_NotOkStatusException\u001b[0m \u001b[0;32mas\u001b[0m \u001b[0me\u001b[0m\u001b[0;34m:\u001b[0m\u001b[0;34m\u001b[0m\u001b[0;34m\u001b[0m\u001b[0m\n\u001b[1;32m     62\u001b[0m     \u001b[0;32mif\u001b[0m \u001b[0mname\u001b[0m \u001b[0;32mis\u001b[0m \u001b[0;32mnot\u001b[0m \u001b[0;32mNone\u001b[0m\u001b[0;34m:\u001b[0m\u001b[0;34m\u001b[0m\u001b[0;34m\u001b[0m\u001b[0m\n",
            "\u001b[0;31mKeyboardInterrupt\u001b[0m: "
          ]
        }
      ]
    },
    {
      "cell_type": "code",
      "metadata": {
        "id": "HeZmLxXwEDrg",
        "outputId": "dbb59232-6b52-4da5-d310-6f92552f71a6",
        "colab": {
          "base_uri": "https://localhost:8080/",
          "height": 546
        }
      },
      "source": [
        "import time\n",
        "#add or remove hidden layers\n",
        "#part1\n",
        "start_time = time.time()\n",
        "model = Sequential()\n",
        "model.add(Conv2D(32, kernel_size=(3, 3),\n",
        "                 activation='relu',\n",
        "                 input_shape=(28,28,1)))\n",
        "model.add(MaxPooling2D(pool_size=(2, 2)))\n",
        "model.add(Flatten())\n",
        "model.add(Dense(10))\n",
        "model.add(Activation('softmax'))\n",
        "\n",
        "model.compile(loss='categorical_crossentropy', metrics=['accuracy'], optimizer='adam')\n",
        "history = model.fit(X_train, Y_train,\n",
        "          batch_size=128, epochs=5,\n",
        "          validation_split=0.3)\n",
        "\n",
        "plotting(history)\n",
        "loss, acc = model.evaluate(X_test, Y_test)\n",
        "print(\"\\nTest accuracy: %.1f%%\" % (100.0 * acc))\n",
        "print(\"--- %s seconds ---\" % (time.time() - start_time))"
      ],
      "execution_count": 43,
      "outputs": [
        {
          "output_type": "stream",
          "text": [
            "Epoch 1/5\n",
            "329/329 [==============================] - 17s 51ms/step - loss: 0.4336 - accuracy: 0.8791 - val_loss: 0.2363 - val_accuracy: 0.9327\n",
            "Epoch 2/5\n",
            "329/329 [==============================] - 16s 50ms/step - loss: 0.1809 - accuracy: 0.9478 - val_loss: 0.1473 - val_accuracy: 0.9585\n",
            "Epoch 3/5\n",
            "329/329 [==============================] - 17s 50ms/step - loss: 0.1175 - accuracy: 0.9679 - val_loss: 0.1179 - val_accuracy: 0.9668\n",
            "Epoch 4/5\n",
            "329/329 [==============================] - 17s 50ms/step - loss: 0.0908 - accuracy: 0.9754 - val_loss: 0.0987 - val_accuracy: 0.9731\n",
            "Epoch 5/5\n",
            "329/329 [==============================] - 17s 50ms/step - loss: 0.0757 - accuracy: 0.9791 - val_loss: 0.0870 - val_accuracy: 0.9743\n",
            "dict_keys(['loss', 'accuracy', 'val_loss', 'val_accuracy'])\n",
            "313/313 [==============================] - 2s 6ms/step - loss: 0.0740 - accuracy: 0.9755\n",
            "\n",
            "Test accuracy: 97.5%\n",
            "--- 85.50521516799927 seconds ---\n"
          ],
          "name": "stdout"
        },
        {
          "output_type": "display_data",
          "data": {
            "image/png": "[encoded data removed]",
            "text/plain": [
              "<Figure size 432x288 with 2 Axes>"
            ]
          },
          "metadata": {
            "tags": [],
            "needs_background": "light"
          }
        }
      ]
    },
    {
      "cell_type": "markdown",
      "metadata": {
        "id": "ZimyVVz1tpqp"
      },
      "source": [
        "In this model execution time is very less because I have reduced the number of parameters and using less filters.\n",
        "\n",
        "At the same time I have good accuray for this model which is compareable to NN."
      ]
    },
    {
      "cell_type": "code",
      "metadata": {
        "id": "0XfNVWDiEdAc",
        "outputId": "43a9243d-9198-47cc-cf22-0dea39a75e2c",
        "colab": {
          "base_uri": "https://localhost:8080/",
          "height": 546
        }
      },
      "source": [
        "import time\n",
        "#add or remove hidden layers\n",
        "#part2\n",
        "start_time = time.time()\n",
        "model = Sequential()\n",
        "model.add(Conv2D(10, kernel_size=(10, 10),\n",
        "                 activation='relu',\n",
        "                 input_shape=(28,28,1)))\n",
        "model.add(MaxPooling2D(pool_size=(2, 2)))\n",
        "\n",
        "model.add(Flatten())\n",
        "model.add(Dense(100, input_shape=(784,)))\n",
        "model.add(Activation('relu'))                            \n",
        "model.add(Dropout(0.2))\n",
        "\n",
        "model.add(Dense(10))\n",
        "model.add(Activation('softmax'))\n",
        "\n",
        "model.compile(loss='categorical_crossentropy', metrics=['accuracy'], optimizer='adam')\n",
        "history = model.fit(X_train, Y_train,\n",
        "          batch_size=128, epochs=5,\n",
        "          validation_split=0.3)\n",
        "\n",
        "plotting(history)\n",
        "loss, acc = model.evaluate(X_test, Y_test)\n",
        "print(\"\\nTest accuracy: %.1f%%\" % (100.0 * acc))\n",
        "print(\"--- %s seconds ---\" % (time.time() - start_time))"
      ],
      "execution_count": 44,
      "outputs": [
        {
          "output_type": "stream",
          "text": [
            "Epoch 1/5\n",
            "329/329 [==============================] - 24s 74ms/step - loss: 0.4212 - accuracy: 0.8762 - val_loss: 0.1399 - val_accuracy: 0.9604\n",
            "Epoch 2/5\n",
            "329/329 [==============================] - 24s 74ms/step - loss: 0.1294 - accuracy: 0.9625 - val_loss: 0.0905 - val_accuracy: 0.9728\n",
            "Epoch 3/5\n",
            "329/329 [==============================] - 24s 74ms/step - loss: 0.0912 - accuracy: 0.9724 - val_loss: 0.0753 - val_accuracy: 0.9761\n",
            "Epoch 4/5\n",
            "329/329 [==============================] - 24s 74ms/step - loss: 0.0725 - accuracy: 0.9775 - val_loss: 0.0722 - val_accuracy: 0.9778\n",
            "Epoch 5/5\n",
            "329/329 [==============================] - 24s 74ms/step - loss: 0.0621 - accuracy: 0.9810 - val_loss: 0.0692 - val_accuracy: 0.9786\n",
            "dict_keys(['loss', 'accuracy', 'val_loss', 'val_accuracy'])\n",
            "313/313 [==============================] - 2s 7ms/step - loss: 0.0547 - accuracy: 0.9826\n",
            "\n",
            "Test accuracy: 98.3%\n",
            "--- 125.63266110420227 seconds ---\n"
          ],
          "name": "stdout"
        },
        {
          "output_type": "display_data",
          "data": {
            "image/png": "[encoded data removed]",
            "text/plain": [
              "<Figure size 432x288 with 2 Axes>"
            ]
          },
          "metadata": {
            "tags": [],
            "needs_background": "light"
          }
        }
      ]
    },
    {
      "cell_type": "markdown",
      "metadata": {
        "id": "4LmJQYF_th4e"
      },
      "source": [
        "So as we increase the number of parameters the accuracy of model will increase."
      ]
    },
    {
      "cell_type": "code",
      "metadata": {
        "id": "bHKeIhCYE2Iy"
      },
      "source": [
        ""
      ],
      "execution_count": 27,
      "outputs": []
    }
  ]
}